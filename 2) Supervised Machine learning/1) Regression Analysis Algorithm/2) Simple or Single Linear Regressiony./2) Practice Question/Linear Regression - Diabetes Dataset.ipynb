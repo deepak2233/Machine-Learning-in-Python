{
 "cells": [
  {
   "cell_type": "markdown",
   "metadata": {},
   "source": [
    "# Linear Regression - Diabetes Dataset"
   ]
  },
  {
   "cell_type": "markdown",
   "metadata": {},
   "source": [
    "Linear Regression - Diabetes Dataset\n",
    "Send Feedback\n",
    "Diabetes dataset is one of the datasets available in sklearn. The diabetes dataset consists of 10 physiological variables (age, sex, weight, blood pressure) measure on 442 patients, and an indication of disease progression after one year.\n",
    "You are given a Training dataset csv file with X train and Y train data. As studied in lecture, your task is to come up with Linear Regression training algorithm and thus predictions for the test dataset given.\n",
    "Read Instructions carefully -\n",
    "1. Use Linear Regression(in scikit learn) as a training algorithm and submit results predicted by that.\n",
    "2. Files are in csv format, use genfromtxt function in numpy to load data from csv file. Similarly you can use savetxt function to save data into a file.\n",
    "3. Submit a csv file with only predictions for X test data. File should not have any headers and should only have one column i.e. predictions.  Also prediction values in file should be upto **5** decimal places.\n",
    "4. Upon submission of predictions, the score you will get is based on coefficient of determination."
   ]
  },
  {
   "cell_type": "markdown",
   "metadata": {},
   "source": [
    "Note :\n",
    "1. You need to upload both predictions and notebook file to submit.\n",
    "\n",
    "2. Please make sure that your submissions are genuine and you haven’t cheated/copied from anywhere. Also only use techniques taught till this stage for submissions.\n",
    "\n",
    "3. Your batchmates and TAs can view your submissions, and report them for use of invalid means if that happens. Your score will be reduced to 0 in that case."
   ]
  },
  {
   "cell_type": "code",
   "execution_count": null,
   "metadata": {},
   "outputs": [],
   "source": [
    "Loads the datsets"
   ]
  },
  {
   "cell_type": "code",
   "execution_count": 174,
   "metadata": {},
   "outputs": [],
   "source": [
    "data = np.loadtxt(\"D:\\\\Desktop\\\\datasets\\\\0000000000002329_training_diabetes_x_y_train.csv\",delimiter=',')"
   ]
  },
  {
   "cell_type": "code",
   "execution_count": 181,
   "metadata": {},
   "outputs": [],
   "source": [
    "data_pd = pd.read_csv(\"D:\\\\Desktop\\\\datasets\\\\0000000000002329_training_diabetes_x_y_train.csv\")"
   ]
  },
  {
   "cell_type": "code",
   "execution_count": 183,
   "metadata": {},
   "outputs": [
    {
     "data": {
      "text/html": [
       "<div>\n",
       "<style scoped>\n",
       "    .dataframe tbody tr th:only-of-type {\n",
       "        vertical-align: middle;\n",
       "    }\n",
       "\n",
       "    .dataframe tbody tr th {\n",
       "        vertical-align: top;\n",
       "    }\n",
       "\n",
       "    .dataframe thead th {\n",
       "        text-align: right;\n",
       "    }\n",
       "</style>\n",
       "<table border=\"1\" class=\"dataframe\">\n",
       "  <thead>\n",
       "    <tr style=\"text-align: right;\">\n",
       "      <th></th>\n",
       "      <th># age</th>\n",
       "      <th>sex</th>\n",
       "      <th>bmi</th>\n",
       "      <th>bp</th>\n",
       "      <th>s1</th>\n",
       "      <th>s2</th>\n",
       "      <th>s3</th>\n",
       "      <th>s4</th>\n",
       "      <th>s5</th>\n",
       "      <th>s6</th>\n",
       "      <th>Y</th>\n",
       "    </tr>\n",
       "  </thead>\n",
       "  <tbody>\n",
       "    <tr>\n",
       "      <th>0</th>\n",
       "      <td>-0.049105</td>\n",
       "      <td>-0.044642</td>\n",
       "      <td>0.160855</td>\n",
       "      <td>-0.046985</td>\n",
       "      <td>-0.029088</td>\n",
       "      <td>-0.019790</td>\n",
       "      <td>-0.047082</td>\n",
       "      <td>0.034309</td>\n",
       "      <td>0.028017</td>\n",
       "      <td>0.011349</td>\n",
       "      <td>346.0</td>\n",
       "    </tr>\n",
       "    <tr>\n",
       "      <th>1</th>\n",
       "      <td>-0.070900</td>\n",
       "      <td>0.050680</td>\n",
       "      <td>-0.089197</td>\n",
       "      <td>-0.074528</td>\n",
       "      <td>-0.042848</td>\n",
       "      <td>-0.025739</td>\n",
       "      <td>-0.032356</td>\n",
       "      <td>-0.002592</td>\n",
       "      <td>-0.012908</td>\n",
       "      <td>-0.054925</td>\n",
       "      <td>104.0</td>\n",
       "    </tr>\n",
       "    <tr>\n",
       "      <th>2</th>\n",
       "      <td>0.001751</td>\n",
       "      <td>-0.044642</td>\n",
       "      <td>-0.070875</td>\n",
       "      <td>-0.022885</td>\n",
       "      <td>-0.001569</td>\n",
       "      <td>-0.001001</td>\n",
       "      <td>0.026550</td>\n",
       "      <td>-0.039493</td>\n",
       "      <td>-0.022512</td>\n",
       "      <td>0.007207</td>\n",
       "      <td>49.0</td>\n",
       "    </tr>\n",
       "    <tr>\n",
       "      <th>3</th>\n",
       "      <td>0.048974</td>\n",
       "      <td>0.050680</td>\n",
       "      <td>0.081097</td>\n",
       "      <td>0.021872</td>\n",
       "      <td>0.043837</td>\n",
       "      <td>0.064134</td>\n",
       "      <td>-0.054446</td>\n",
       "      <td>0.071210</td>\n",
       "      <td>0.032433</td>\n",
       "      <td>0.048628</td>\n",
       "      <td>180.0</td>\n",
       "    </tr>\n",
       "    <tr>\n",
       "      <th>4</th>\n",
       "      <td>0.041708</td>\n",
       "      <td>0.050680</td>\n",
       "      <td>0.061696</td>\n",
       "      <td>-0.040099</td>\n",
       "      <td>-0.013953</td>\n",
       "      <td>0.006202</td>\n",
       "      <td>-0.028674</td>\n",
       "      <td>-0.002592</td>\n",
       "      <td>-0.014956</td>\n",
       "      <td>0.011349</td>\n",
       "      <td>110.0</td>\n",
       "    </tr>\n",
       "    <tr>\n",
       "      <th>5</th>\n",
       "      <td>-0.060003</td>\n",
       "      <td>0.050680</td>\n",
       "      <td>-0.047163</td>\n",
       "      <td>-0.022885</td>\n",
       "      <td>-0.071743</td>\n",
       "      <td>-0.057681</td>\n",
       "      <td>-0.006584</td>\n",
       "      <td>-0.039493</td>\n",
       "      <td>-0.062913</td>\n",
       "      <td>-0.054925</td>\n",
       "      <td>72.0</td>\n",
       "    </tr>\n",
       "    <tr>\n",
       "      <th>6</th>\n",
       "      <td>-0.074533</td>\n",
       "      <td>0.050680</td>\n",
       "      <td>0.055229</td>\n",
       "      <td>-0.040099</td>\n",
       "      <td>0.053469</td>\n",
       "      <td>0.053174</td>\n",
       "      <td>-0.043401</td>\n",
       "      <td>0.071210</td>\n",
       "      <td>0.061238</td>\n",
       "      <td>-0.034215</td>\n",
       "      <td>68.0</td>\n",
       "    </tr>\n",
       "    <tr>\n",
       "      <th>7</th>\n",
       "      <td>-0.016412</td>\n",
       "      <td>-0.044642</td>\n",
       "      <td>-0.013751</td>\n",
       "      <td>0.132044</td>\n",
       "      <td>-0.009825</td>\n",
       "      <td>-0.003819</td>\n",
       "      <td>0.019187</td>\n",
       "      <td>-0.039493</td>\n",
       "      <td>-0.035817</td>\n",
       "      <td>-0.030072</td>\n",
       "      <td>216.0</td>\n",
       "    </tr>\n",
       "    <tr>\n",
       "      <th>8</th>\n",
       "      <td>0.023546</td>\n",
       "      <td>0.050680</td>\n",
       "      <td>-0.020218</td>\n",
       "      <td>-0.036656</td>\n",
       "      <td>-0.013953</td>\n",
       "      <td>-0.015092</td>\n",
       "      <td>0.059685</td>\n",
       "      <td>-0.039493</td>\n",
       "      <td>-0.096433</td>\n",
       "      <td>-0.017646</td>\n",
       "      <td>47.0</td>\n",
       "    </tr>\n",
       "    <tr>\n",
       "      <th>9</th>\n",
       "      <td>0.074401</td>\n",
       "      <td>-0.044642</td>\n",
       "      <td>0.031517</td>\n",
       "      <td>0.101058</td>\n",
       "      <td>0.046589</td>\n",
       "      <td>0.036890</td>\n",
       "      <td>0.015505</td>\n",
       "      <td>-0.002592</td>\n",
       "      <td>0.033657</td>\n",
       "      <td>0.044485</td>\n",
       "      <td>296.0</td>\n",
       "    </tr>\n",
       "  </tbody>\n",
       "</table>\n",
       "</div>"
      ],
      "text/plain": [
       "      # age       sex       bmi        bp        s1        s2        s3  \\\n",
       "0 -0.049105 -0.044642  0.160855 -0.046985 -0.029088 -0.019790 -0.047082   \n",
       "1 -0.070900  0.050680 -0.089197 -0.074528 -0.042848 -0.025739 -0.032356   \n",
       "2  0.001751 -0.044642 -0.070875 -0.022885 -0.001569 -0.001001  0.026550   \n",
       "3  0.048974  0.050680  0.081097  0.021872  0.043837  0.064134 -0.054446   \n",
       "4  0.041708  0.050680  0.061696 -0.040099 -0.013953  0.006202 -0.028674   \n",
       "5 -0.060003  0.050680 -0.047163 -0.022885 -0.071743 -0.057681 -0.006584   \n",
       "6 -0.074533  0.050680  0.055229 -0.040099  0.053469  0.053174 -0.043401   \n",
       "7 -0.016412 -0.044642 -0.013751  0.132044 -0.009825 -0.003819  0.019187   \n",
       "8  0.023546  0.050680 -0.020218 -0.036656 -0.013953 -0.015092  0.059685   \n",
       "9  0.074401 -0.044642  0.031517  0.101058  0.046589  0.036890  0.015505   \n",
       "\n",
       "         s4        s5        s6      Y  \n",
       "0  0.034309  0.028017  0.011349  346.0  \n",
       "1 -0.002592 -0.012908 -0.054925  104.0  \n",
       "2 -0.039493 -0.022512  0.007207   49.0  \n",
       "3  0.071210  0.032433  0.048628  180.0  \n",
       "4 -0.002592 -0.014956  0.011349  110.0  \n",
       "5 -0.039493 -0.062913 -0.054925   72.0  \n",
       "6  0.071210  0.061238 -0.034215   68.0  \n",
       "7 -0.039493 -0.035817 -0.030072  216.0  \n",
       "8 -0.039493 -0.096433 -0.017646   47.0  \n",
       "9 -0.002592  0.033657  0.044485  296.0  "
      ]
     },
     "execution_count": 183,
     "metadata": {},
     "output_type": "execute_result"
    }
   ],
   "source": [
    "data_pd.head(10)"
   ]
  },
  {
   "cell_type": "code",
   "execution_count": 177,
   "metadata": {},
   "outputs": [],
   "source": [
    "X=data[:,0:-1]\n",
    "Y=data[:,-1]"
   ]
  },
  {
   "cell_type": "code",
   "execution_count": 179,
   "metadata": {},
   "outputs": [
    {
     "data": {
      "text/plain": [
       "array([[-0.04910502, -0.04464164,  0.16085492, ...,  0.03430886,\n",
       "         0.02801651,  0.01134862],\n",
       "       [-0.07090025,  0.05068012, -0.08919748, ..., -0.00259226,\n",
       "        -0.01290794, -0.05492509],\n",
       "       [ 0.00175052, -0.04464164, -0.07087468, ..., -0.03949338,\n",
       "        -0.02251217,  0.00720652],\n",
       "       ...,\n",
       "       [ 0.02354575, -0.04464164,  0.0703187 , ..., -0.00259226,\n",
       "        -0.01919705, -0.00936191],\n",
       "       [ 0.01628068,  0.05068012,  0.07247433, ..., -0.00259226,\n",
       "        -0.02364456,  0.06105391],\n",
       "       [-0.00914709,  0.05068012, -0.03099563, ..., -0.00259226,\n",
       "         0.00620932,  0.02791705]])"
      ]
     },
     "execution_count": 179,
     "metadata": {},
     "output_type": "execute_result"
    }
   ],
   "source": [
    "X"
   ]
  },
  {
   "cell_type": "code",
   "execution_count": 180,
   "metadata": {},
   "outputs": [
    {
     "data": {
      "text/plain": [
       "array([346., 104.,  49., 180., 110.,  72.,  68., 216.,  47., 296.,  65.,\n",
       "        96.,  67.,  52., 100., 202., 128.,  63., 281., 152., 124., 245.,\n",
       "       101., 113.,  48., 197., 186., 132., 245.,  91.,  43., 101., 111.,\n",
       "       199., 220., 281., 217.,  93., 174., 150., 206.,  61.,  55., 118.,\n",
       "        53., 275., 215., 142.,  90.,  65., 200.,  96., 249., 200., 155.,\n",
       "       170., 141., 179., 225.,  61., 103., 131., 158., 275., 246.,  97.,\n",
       "       302.,  91., 178.,  51., 170., 104., 168., 257., 182.,  71., 220.,\n",
       "       241., 192., 220., 220., 141.,  89., 144., 150., 135., 200.,  39.,\n",
       "        25., 185.,  52.,  92.,  63., 152.,  69.,  68., 274., 279., 236.,\n",
       "       168., 143., 135., 123., 277.,  60.,  72.,  72., 109.,  86.,  92.,\n",
       "        99.,  48., 170., 283., 129.,  75., 270., 272.,  31., 262., 232.,\n",
       "       191., 140., 233., 196., 263.,  88.,  84., 137., 128.,  78., 140.,\n",
       "       252.,  55., 104., 235.,  37., 122.,  72., 144., 138., 253.,  90.,\n",
       "        53., 198., 145.,  73., 252.,  77., 295., 243.,  83., 212., 185.,\n",
       "       126.,  68., 210., 107., 200.,  69.,  98., 242., 163., 172.,  40.,\n",
       "       109.,  39., 202., 131., 261.,  71., 200.,  60., 198., 198., 107.,\n",
       "       252., 144., 108.,  64.,  83.,  67., 146.,  84.,  96., 270.,  80.,\n",
       "       182., 214., 127., 143., 222.,  50.,  85., 115., 243., 281., 258.,\n",
       "       114.,  57.,  94., 136.,  88., 178.,  94.,  81.,  42., 102., 139.,\n",
       "        74.,  69., 308., 200., 242., 158., 174.,  66.,  78., 127., 132.,\n",
       "       201., 178., 202.,  66., 248., 237., 120., 111.,  99.,  96., 180.,\n",
       "       341., 219., 131., 141.,  89.,  59., 147.,  44., 336.,  47., 272.,\n",
       "       317., 161.,  64.,  78., 111., 208., 190., 244., 246.,  48., 275.,\n",
       "       182., 248.,  59., 178., 113., 109., 142.,  59., 110., 128.,  95.,\n",
       "        65., 115., 276.,  85., 183.,  58.,  71., 162., 225., 306., 137.,\n",
       "        85.,  77.,  72., 166., 310.,  79., 195., 321., 160., 283.,  75.,\n",
       "       167., 191.,  71., 297., 185., 134., 233., 151.,  83., 258.,  54.,\n",
       "        55., 189.,  70., 310., 181., 172., 235., 275., 259.,  88.,  74.,\n",
       "        91., 104., 173., 179., 148., 168., 124., 164., 214., 263.,  52.,\n",
       "        52., 160.,  88.,  94., 109.,  53., 265., 233.,  63., 288., 131.,\n",
       "        42.])"
      ]
     },
     "execution_count": 180,
     "metadata": {},
     "output_type": "execute_result"
    }
   ],
   "source": [
    "Y"
   ]
  },
  {
   "cell_type": "markdown",
   "metadata": {},
   "source": [
    "# TRAINING THE ALGORITHM\n"
   ]
  },
  {
   "cell_type": "code",
   "execution_count": 184,
   "metadata": {},
   "outputs": [
    {
     "data": {
      "text/plain": [
       "LinearRegression()"
      ]
     },
     "execution_count": 184,
     "metadata": {},
     "output_type": "execute_result"
    }
   ],
   "source": [
    "from sklearn.linear_model import LinearRegression\n",
    "alg=LinearRegression()\n",
    "alg.fit(X,Y)"
   ]
  },
  {
   "cell_type": "markdown",
   "metadata": {},
   "source": [
    "# TESTING THE DATA\n"
   ]
  },
  {
   "cell_type": "code",
   "execution_count": 186,
   "metadata": {},
   "outputs": [],
   "source": [
    "test_data=np.loadtxt(\"D:\\\\Desktop\\\\datasets\\\\0000000000002329_test_diabetes_x_test.csv\",delimiter=',')\n",
    "test_predict=alg.predict(test_data)\n",
    "np.savetxt('coding.csv',test_predict,fmt='%1.5f')"
   ]
  },
  {
   "cell_type": "code",
   "execution_count": null,
   "metadata": {},
   "outputs": [],
   "source": []
  }
 ],
 "metadata": {
  "kernelspec": {
   "display_name": "Python 3",
   "language": "python",
   "name": "python3"
  },
  "language_info": {
   "codemirror_mode": {
    "name": "ipython",
    "version": 3
   },
   "file_extension": ".py",
   "mimetype": "text/x-python",
   "name": "python",
   "nbconvert_exporter": "python",
   "pygments_lexer": "ipython3",
   "version": "3.8.5"
  }
 },
 "nbformat": 4,
 "nbformat_minor": 4
}
